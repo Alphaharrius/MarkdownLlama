{
 "cells": [
  {
   "cell_type": "code",
   "execution_count": 1,
   "metadata": {},
   "outputs": [],
   "source": [
    "from mdllama.chatbot import MdChatbot"
   ]
  },
  {
   "cell_type": "code",
   "execution_count": 2,
   "metadata": {},
   "outputs": [],
   "source": [
    "chatbot = MdChatbot(llama_host='http://127.0.0.1:25565', chat_model='llama3.1', embed_model='mxbai-embed-large')"
   ]
  },
  {
   "cell_type": "code",
   "execution_count": 3,
   "metadata": {},
   "outputs": [],
   "source": [
    "chatbot.build_data_chain(['res/output.md'])"
   ]
  },
  {
   "cell_type": "code",
   "execution_count": 11,
   "metadata": {},
   "outputs": [
    {
     "name": "stdout",
     "output_type": "stream",
     "text": [
      "<q>\n",
      "Based on the prior conversation with the user, please explicitly define what is meant by a global distiller in the context of Entanglement Renormalization.\n",
      "</q>\n",
      "In the context of Entanglement Renormalization (ER), a global distiller refers to an operator that combines the local distiller Hamiltonians from all subregions into a single, global Hamiltonian. This is achieved by summing up the local distiller Hamiltonians:\n",
      "\n",
      "$h_{\\rm distill} = \\sum_{x=0}^{L-1} h_{\\rm distill}^{R_x}$\n",
      "\n",
      "where $h_{\\rm distill}^{R_x}$ is the local distiller Hamiltonian for subregion $R_x$. The global distiller, denoted by $h_{\\rm distill}$, serves to spectrally separate the frozen modes from those carrying longer-range entanglement, or \"courier\" modes. This approach treats all local subregions on an equal footing and is a key distinction between ER and existing methods like Multiscale Entanglement Renormalization Ansatz (MERA).\n",
      "\n",
      "In essence, the global distiller is a tool used in ER to identify short-range entanglement across the entire system, rather than just within individual subregions. This allows for a more comprehensive understanding of the entanglement structure and enables the renormalization process to proceed in a more unified manner.\n",
      "\n",
      "It's worth noting that the global distiller Hamiltonian will have eigenvalues different from $\\pm 1$ and $0$, due to the overlap between adjacent subregions, but it still serves its purpose in separating frozen modes from courier modes.\n"
     ]
    }
   ],
   "source": [
    "response = chatbot.chat(\"What is a global distiller?\")\n",
    "print(response)"
   ]
  },
  {
   "cell_type": "code",
   "execution_count": null,
   "metadata": {},
   "outputs": [],
   "source": []
  },
  {
   "cell_type": "markdown",
   "metadata": {},
   "source": [
    "In the context of Entanglement Renormalization (ER), a global distiller refers to an operator that combines the local distiller Hamiltonians from all subregions into a single, global Hamiltonian. This is achieved by summing up the local distiller Hamiltonians:\n",
    "\n",
    "$h_{\\rm distill} = \\sum_{x=0}^{L-1} h_{\\rm distill}^{R_x}$\n",
    "\n",
    "where $h_{\\rm distill}^{R_x}$ is the local distiller Hamiltonian for subregion $R_x$. The global distiller, denoted by $h_{\\rm distill}$, serves to spectrally separate the frozen modes from those carrying longer-range entanglement, or \"courier\" modes. This approach treats all local subregions on an equal footing and is a key distinction between ER and existing methods like Multiscale Entanglement Renormalization Ansatz (MERA).\n",
    "\n",
    "In essence, the global distiller is a tool used in ER to identify short-range entanglement across the entire system, rather than just within individual subregions. This allows for a more comprehensive understanding of the entanglement structure and enables the renormalization process to proceed in a more unified manner.\n",
    "\n",
    "It's worth noting that the global distiller Hamiltonian will have eigenvalues different from $\\pm 1$ and $0$, due to the overlap between adjacent subregions, but it still serves its purpose in separating frozen modes from courier modes."
   ]
  },
  {
   "cell_type": "markdown",
   "metadata": {},
   "source": []
  }
 ],
 "metadata": {
  "kernelspec": {
   "display_name": "Python 3",
   "language": "python",
   "name": "python3"
  },
  "language_info": {
   "codemirror_mode": {
    "name": "ipython",
    "version": 3
   },
   "file_extension": ".py",
   "mimetype": "text/x-python",
   "name": "python",
   "nbconvert_exporter": "python",
   "pygments_lexer": "ipython3",
   "version": "3.11.2"
  }
 },
 "nbformat": 4,
 "nbformat_minor": 2
}
